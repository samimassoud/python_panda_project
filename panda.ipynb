{
 "cells": [
  {
   "cell_type": "code",
   "execution_count": null,
   "metadata": {},
   "outputs": [],
   "source": [
    "import pandas as pd\n",
    " # Load the dataset\n",
    " file_path = 'chicago.csv'  # Make sure the dataset is in the same directory as this script\n",
    " df = pd.read_csv(file_path)\n",
    " # Basic Data Types\n",
    " # Integers and Floats\n",
    " total_trip_duration = \n",
    " average_trip_duration =\n",
    " # Strings\n",
    " first_start_station = \n",
    "# Booleans\n",
    " has_female_users =\n",
    " # Compound Data Types\n",
    " # Lists\n",
    " start_stations_list = \n",
    "# Tuples\n",
    " summary_stats = \n",
    "# Dictionaries\n",
    " user_type_counts = df['User Type'].value_counts().to_dict()\n",
    "# Sets\n",
    " unique_stations = set(df['Start Station'])\n",
    " # Operators\n",
    " # Arithmetic Operators\n",
    " total_duration =  # Total trip duration\n",
    " average_duration =  # Average trip duration\n",
    " # Comparison Operators\n",
    " long_trips =  # Filtering trips longer than 1000 seconds\n",
    " # Logical Operators\n",
    " male_trips = # Trips by males born after 1990\n",
    " # Assignment Operators\n",
    " df['Adjusted Duration'] =  # Creating a new column\n",
    " df['Adjusted Duration'] = # Adding 60 seconds to each trip duration\n",
    " # Output results\n",
    " print(\"Total Trip Duration:\", total_trip_duration)\n",
    " print(\"Average Trip Duration:\", average_trip_duration)\n",
    " print(\"First Start Station:\", first_start_station)\n",
    " print(\"Has Female Users:\", has_female_users)\n",
    " print(\"Start Stations List:\", start_stations_list[:5])  # Print first 5 to avoid clutter\n",
    " print(\"Summary Stats:\", summary_stats)\n",
    " print(\"User Type Counts:\", user_type_counts)\n",
    " print(\"Unique Start Stations:\", list(unique_stations)[:5])  # Print first 5 to avoid clutter\n",
    " print(\"Total Duration:\", total_duration)\n",
    " print(\"Average Duration:\", average_duration)\n",
    " print(\"Number of Long Trips:\", len(long_trips))\n",
    " print(\"Number of Male Trips by Users Born After 1990:\", \n",
    " len(male_trips))\n",
    " print(\"Sample Adjusted Durations:\", df['Adjusted Duration'].head())\n",
    " # Save results to a new CSV file\n",
    " df.to_csv('chicago_analysis_results.csv', index=False)"
   ]
  }
 ],
 "metadata": {
  "language_info": {
   "name": "python"
  }
 },
 "nbformat": 4,
 "nbformat_minor": 2
}
